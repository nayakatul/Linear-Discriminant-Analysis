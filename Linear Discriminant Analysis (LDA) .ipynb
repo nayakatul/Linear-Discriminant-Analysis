{
 "cells": [
  {
   "cell_type": "code",
   "execution_count": 1,
   "id": "139a1828",
   "metadata": {},
   "outputs": [
    {
     "data": {
      "text/html": [
       "<div>\n",
       "<style scoped>\n",
       "    .dataframe tbody tr th:only-of-type {\n",
       "        vertical-align: middle;\n",
       "    }\n",
       "\n",
       "    .dataframe tbody tr th {\n",
       "        vertical-align: top;\n",
       "    }\n",
       "\n",
       "    .dataframe thead th {\n",
       "        text-align: right;\n",
       "    }\n",
       "</style>\n",
       "<table border=\"1\" class=\"dataframe\">\n",
       "  <thead>\n",
       "    <tr style=\"text-align: right;\">\n",
       "      <th></th>\n",
       "      <th>ID</th>\n",
       "      <th>Age</th>\n",
       "      <th>Experience</th>\n",
       "      <th>Income</th>\n",
       "      <th>Family</th>\n",
       "      <th>CCAvg</th>\n",
       "      <th>Education</th>\n",
       "      <th>Mortgage</th>\n",
       "      <th>Personal Loan</th>\n",
       "      <th>Securities Account</th>\n",
       "      <th>CD Account</th>\n",
       "      <th>Online</th>\n",
       "      <th>CreditCard</th>\n",
       "    </tr>\n",
       "  </thead>\n",
       "  <tbody>\n",
       "    <tr>\n",
       "      <th>0</th>\n",
       "      <td>1</td>\n",
       "      <td>25</td>\n",
       "      <td>1</td>\n",
       "      <td>49</td>\n",
       "      <td>4</td>\n",
       "      <td>1.6</td>\n",
       "      <td>1</td>\n",
       "      <td>0</td>\n",
       "      <td>0</td>\n",
       "      <td>1</td>\n",
       "      <td>0</td>\n",
       "      <td>0</td>\n",
       "      <td>0</td>\n",
       "    </tr>\n",
       "    <tr>\n",
       "      <th>1</th>\n",
       "      <td>2</td>\n",
       "      <td>45</td>\n",
       "      <td>19</td>\n",
       "      <td>34</td>\n",
       "      <td>3</td>\n",
       "      <td>1.5</td>\n",
       "      <td>1</td>\n",
       "      <td>0</td>\n",
       "      <td>0</td>\n",
       "      <td>1</td>\n",
       "      <td>0</td>\n",
       "      <td>0</td>\n",
       "      <td>0</td>\n",
       "    </tr>\n",
       "    <tr>\n",
       "      <th>2</th>\n",
       "      <td>3</td>\n",
       "      <td>39</td>\n",
       "      <td>15</td>\n",
       "      <td>11</td>\n",
       "      <td>1</td>\n",
       "      <td>1.0</td>\n",
       "      <td>1</td>\n",
       "      <td>0</td>\n",
       "      <td>0</td>\n",
       "      <td>0</td>\n",
       "      <td>0</td>\n",
       "      <td>0</td>\n",
       "      <td>0</td>\n",
       "    </tr>\n",
       "    <tr>\n",
       "      <th>3</th>\n",
       "      <td>4</td>\n",
       "      <td>35</td>\n",
       "      <td>9</td>\n",
       "      <td>100</td>\n",
       "      <td>1</td>\n",
       "      <td>2.7</td>\n",
       "      <td>2</td>\n",
       "      <td>0</td>\n",
       "      <td>0</td>\n",
       "      <td>0</td>\n",
       "      <td>0</td>\n",
       "      <td>0</td>\n",
       "      <td>0</td>\n",
       "    </tr>\n",
       "    <tr>\n",
       "      <th>4</th>\n",
       "      <td>5</td>\n",
       "      <td>35</td>\n",
       "      <td>8</td>\n",
       "      <td>45</td>\n",
       "      <td>4</td>\n",
       "      <td>1.0</td>\n",
       "      <td>2</td>\n",
       "      <td>0</td>\n",
       "      <td>0</td>\n",
       "      <td>0</td>\n",
       "      <td>0</td>\n",
       "      <td>0</td>\n",
       "      <td>1</td>\n",
       "    </tr>\n",
       "  </tbody>\n",
       "</table>\n",
       "</div>"
      ],
      "text/plain": [
       "   ID  Age  Experience  Income  Family  CCAvg  Education  Mortgage  \\\n",
       "0   1   25           1      49       4    1.6          1         0   \n",
       "1   2   45          19      34       3    1.5          1         0   \n",
       "2   3   39          15      11       1    1.0          1         0   \n",
       "3   4   35           9     100       1    2.7          2         0   \n",
       "4   5   35           8      45       4    1.0          2         0   \n",
       "\n",
       "   Personal Loan  Securities Account  CD Account  Online  CreditCard  \n",
       "0              0                   1           0       0           0  \n",
       "1              0                   1           0       0           0  \n",
       "2              0                   0           0       0           0  \n",
       "3              0                   0           0       0           0  \n",
       "4              0                   0           0       0           1  "
      ]
     },
     "execution_count": 1,
     "metadata": {},
     "output_type": "execute_result"
    }
   ],
   "source": [
    "import pandas as pd\n",
    "import numpy as np\n",
    "from sklearn.preprocessing import StandardScaler\n",
    "import math\n",
    "\n",
    "df=pd.read_excel(\"./Universalbank_1500-1.xlsx\")\n",
    "\n",
    "bank_df = df.drop('ZIP Code', axis=1)\n",
    "bank_df.head(5)\n"
   ]
  },
  {
   "cell_type": "code",
   "execution_count": 2,
   "id": "2799ff6a",
   "metadata": {},
   "outputs": [
    {
     "data": {
      "text/plain": [
       "array([7.50500000e+02, 4.52680000e+01, 2.00280000e+01, 7.42520000e+01,\n",
       "       2.42266667e+00, 1.98320000e+00, 1.86266667e+00, 5.58200000e+01,\n",
       "       1.01333333e-01, 1.06666667e-01, 6.06666667e-02, 6.05333333e-01,\n",
       "       2.90000000e-01])"
      ]
     },
     "execution_count": 2,
     "metadata": {},
     "output_type": "execute_result"
    }
   ],
   "source": [
    "def stats_mean(data):\n",
    "    mean_vector=np.array([])\n",
    "    for f in data.columns:\n",
    "        m=data[f].mean()\n",
    "        mean_vector=np.append(mean_vector, m)\n",
    "        \n",
    "    return mean_vector\n",
    "stats_mean(bank_df)"
   ]
  },
  {
   "cell_type": "code",
   "execution_count": 3,
   "id": "c005a5a5",
   "metadata": {},
   "outputs": [],
   "source": [
    "def within_scatter(data):\n",
    "    \n",
    "    data1 = data.drop('Personal Loan', axis=1)\n",
    "    \n",
    "    mean = stats_mean(data1)\n",
    "    s=0\n",
    "    for i in range(len(data1)):\n",
    "        s+= np.outer(np.array(data1.iloc[i,:])-mean, (np.array(data1.iloc[i,:])-mean).transpose())\n",
    "    return s\n"
   ]
  },
  {
   "cell_type": "code",
   "execution_count": 4,
   "id": "330efbe8",
   "metadata": {},
   "outputs": [],
   "source": [
    "def btw_scatter(data_entire, data):\n",
    "    \n",
    "    data1 = data.drop('Personal Loan', axis=1)\n",
    "    data1_entire = data_entire.drop('Personal Loan', axis=1)\n",
    "    \n",
    "    mean_total = stats_mean(data1_entire)\n",
    "    mean_class = stats_mean(data1)\n",
    "    \n",
    "    n_class = len(data1)\n",
    "    \n",
    "    s = n_class*(np.outer((mean_class-mean_total),((mean_class-mean_total).transpose())))\n",
    "    \n",
    "    return s"
   ]
  },
  {
   "cell_type": "code",
   "execution_count": 5,
   "id": "4f3476b2",
   "metadata": {},
   "outputs": [],
   "source": [
    "def get_within_scatter(data, label):\n",
    "    \n",
    "    labels=data[label].unique()\n",
    "    \n",
    "    s=0\n",
    "    for i in labels:\n",
    "        \n",
    "        df=data[data[label]==i]\n",
    "        s += within_scatter(df)\n",
    "    return s\n"
   ]
  },
  {
   "cell_type": "code",
   "execution_count": 6,
   "id": "57f954eb",
   "metadata": {},
   "outputs": [],
   "source": [
    "def get_btw_scatter(data, label):\n",
    "    \n",
    "    labels=data[label].unique()\n",
    "    \n",
    "    s=0\n",
    "    for i in labels:\n",
    "        \n",
    "        df=data[data[label]==i]\n",
    "        s+=btw_scatter(data, df)\n",
    "    return s\n"
   ]
  },
  {
   "cell_type": "code",
   "execution_count": 7,
   "id": "f12ac10a",
   "metadata": {},
   "outputs": [],
   "source": [
    "def sw_inv_sb(sw,sb):\n",
    "    \n",
    "    sw_inv = np.linalg.inv(sw)\n",
    "    \n",
    "    return sw_inv*sb\n"
   ]
  },
  {
   "cell_type": "code",
   "execution_count": 8,
   "id": "81627b27",
   "metadata": {},
   "outputs": [],
   "source": [
    "def eigens(M):\n",
    "    \n",
    "    eigenvalues, eigenvectors = np.linalg.eig(M)\n",
    "    \n",
    "    return eigenvalues, eigenvectors\n",
    "\n",
    "eigenabc = eigens(sw_inv_sb(get_within_scatter(bank_df, \"Personal Loan\"),get_btw_scatter(bank_df, \"Personal Loan\")))\n"
   ]
  },
  {
   "cell_type": "code",
   "execution_count": 9,
   "id": "57b31603",
   "metadata": {},
   "outputs": [
    {
     "data": {
      "text/plain": [
       "{0.6677390510719808: array([ 9.16053172e-04,  8.08134992e-04,  2.57231075e-03,  1.18693540e-04,\n",
       "         2.95940007e-03,  6.48875206e-04, -1.91969302e-02, -6.60336553e-03,\n",
       "         6.97510315e-03, -3.59151979e-02,  9.98096346e-01,  4.51187472e-02]),\n",
       " 0.16207524089545433: array([-0.01554694,  0.06765116, -0.06287449,  0.62590181, -0.04498171,\n",
       "         0.0869151 , -0.02700156,  0.0100891 ,  0.0224032 , -0.02059344,\n",
       "         0.0334086 , -0.7661754 ]),\n",
       " 0.14681060141205413: array([ 0.01716164, -0.08361842,  0.07666899, -0.74905358,  0.05708224,\n",
       "        -0.11132071, -0.01530666,  0.00887498,  0.0188834 , -0.01734746,\n",
       "         0.02774204, -0.63903298]),\n",
       " 0.10763476179007919: array([-9.17971652e-01, -1.26213428e-01,  3.65071153e-01,  4.13408537e-02,\n",
       "         1.24540774e-02, -7.65705287e-02,  1.98039674e-02, -1.74451430e-04,\n",
       "         4.96566165e-04,  1.25636924e-04,  3.38125932e-04,  1.20444251e-03]),\n",
       " 0.02156340346290305: array([-0.00899829, -0.00508268,  0.02392936,  0.00114616,  0.00254746,\n",
       "        -0.02657755, -0.99858481,  0.00392717, -0.00642313, -0.00726447,\n",
       "        -0.02078759,  0.02988675]),\n",
       " 0.019430488298675396: array([ 3.93573542e-01, -2.57187703e-01,  8.67978416e-01,  1.38462982e-01,\n",
       "         2.99734656e-02, -7.11225881e-02,  2.07520534e-02,  9.62214527e-05,\n",
       "         1.47973127e-03, -1.11667650e-03, -2.12744204e-03,  6.11402580e-04]),\n",
       " 0.0024115980982207376: array([-3.15481313e-02, -3.97665111e-02,  1.10937918e-01, -1.43148894e-01,\n",
       "        -5.73674534e-01,  7.96928228e-01, -1.98237621e-02, -1.27450585e-04,\n",
       "         3.15536462e-03, -2.92929667e-03,  6.43484120e-04, -3.93595542e-03]),\n",
       " 0.000509185806289227: array([-7.86012487e-05, -5.10923681e-03, -1.73335472e-03,  6.96296855e-04,\n",
       "         8.20525853e-05,  5.34410510e-04,  4.03716662e-03,  9.99747730e-01,\n",
       "         2.40806106e-03,  1.52282681e-02,  6.63030855e-03,  1.32900719e-02]),\n",
       " 0.00039599826843757674: array([-1.39702592e-02,  9.50935699e-01,  2.98860593e-01, -7.32802719e-02,\n",
       "        -1.13677099e-02, -1.58862081e-02,  2.67739292e-03,  5.22840005e-03,\n",
       "        -1.14475194e-02,  1.69258369e-02, -6.03767918e-04, -2.11703216e-03]),\n",
       " 0.00027372918968357544: array([-6.71630558e-04,  1.63910600e-02,  3.51073883e-03, -8.87171215e-04,\n",
       "         2.16643992e-03, -1.54837474e-03,  8.95667124e-03,  1.52036204e-02,\n",
       "        -1.04713356e-02, -9.98657248e-01, -3.67448327e-02,  2.49635007e-02]),\n",
       " 0.00026697568961625676: array([ 2.77982836e-04, -1.16816450e-02, -1.80757866e-03,  5.31210157e-04,\n",
       "        -3.02385841e-03,  1.56918237e-03,  5.27428198e-03,  2.51226634e-03,\n",
       "        -9.99394606e-01,  9.30018818e-03,  8.78501953e-03, -2.93415725e-02]),\n",
       " 3.168252863384384e-05: array([ 2.48774850e-02, -6.17577940e-03, -3.58117800e-02,  2.04966131e-02,\n",
       "        -8.15109786e-01, -5.77124849e-01,  1.22125406e-02,  2.02433696e-04,\n",
       "         1.77216423e-03, -1.13230360e-03,  3.01081378e-03,  8.04007423e-04])}"
      ]
     },
     "execution_count": 9,
     "metadata": {},
     "output_type": "execute_result"
    }
   ],
   "source": [
    "def desc_chose_eigen_vect(eigenvalues, eigenvectors):\n",
    "\n",
    "    eigen_dict={}\n",
    "    for i in range(len(eigenvalues)):\n",
    "        eigen_dict[eigenvalues[i]]=eigenvectors[i]\n",
    "    \n",
    "    sorted_dict = dict(sorted(eigen_dict.items(), reverse=True))\n",
    "    \n",
    "    return sorted_dict\n",
    "\n",
    "desc_chose_eigen_vect(eigenabc[0], eigenabc[1])\n"
   ]
  },
  {
   "cell_type": "code",
   "execution_count": 10,
   "id": "3f04201c",
   "metadata": {},
   "outputs": [
    {
     "data": {
      "text/plain": [
       "array([ 9.16053172e-04,  8.08134992e-04,  2.57231075e-03,  1.18693540e-04,\n",
       "        2.95940007e-03,  6.48875206e-04, -1.91969302e-02, -6.60336553e-03,\n",
       "        6.97510315e-03, -3.59151979e-02,  9.98096346e-01,  4.51187472e-02])"
      ]
     },
     "execution_count": 10,
     "metadata": {},
     "output_type": "execute_result"
    }
   ],
   "source": [
    "def w_matrix(data, label, sorted_eigen):\n",
    "    \n",
    "    labels_count=data[label].nunique()\n",
    "    \n",
    "    keys= list(sorted_eigen.keys())\n",
    "    w_matrix = np.array([])\n",
    "    \n",
    "    for i in range(labels_count-1):\n",
    "        w_matrix = np.append(w_matrix, sorted_eigen[keys[i]])\n",
    "    \n",
    "    return w_matrix.transpose()\n",
    "      \n",
    "w_matrix(bank_df, \"Personal Loan\", desc_chose_eigen_vect(eigenabc[0], eigenabc[1]))"
   ]
  },
  {
   "cell_type": "code",
   "execution_count": 11,
   "id": "5cb801e6",
   "metadata": {},
   "outputs": [],
   "source": [
    "def projection(input_matrix, w_matrix):\n",
    "    \n",
    "    x = np.dot(input_matrix, w_matrix)\n",
    "    \n",
    "    return x"
   ]
  },
  {
   "cell_type": "code",
   "execution_count": 12,
   "id": "997502d2",
   "metadata": {},
   "outputs": [
    {
     "name": "stdout",
     "output_type": "stream",
     "text": [
      "[ 2.54463791  2.52211258  2.50704797 ... -2.61078794 -2.89969819\n",
      " -3.67415745]\n"
     ]
    }
   ],
   "source": [
    "def LDA(data, label):\n",
    "    \n",
    "    input_1=data.drop(label, axis=1)\n",
    "    \n",
    "    input_matrix = input_1.values\n",
    "    \n",
    "    sw = get_within_scatter(data, label)\n",
    "    sb = get_btw_scatter(data, label)\n",
    "    m = sw_inv_sb(sw,sb)\n",
    "    eigen = eigens(m)\n",
    "    sorted_eigen = desc_chose_eigen_vect(eigen[0], eigen[1])\n",
    "    w_matrix1 = w_matrix(data, label, sorted_eigen)\n",
    "    x = projection(input_matrix, w_matrix1)\n",
    "    \n",
    "    return x\n",
    "\n",
    "y=LDA(bank_df, \"Personal Loan\")\n",
    "\n",
    "sorted_y = np.sort(y, kind='quicksort', order=None)[::-1]\n",
    "\n",
    "print(sorted_y)"
   ]
  }
 ],
 "metadata": {
  "kernelspec": {
   "display_name": "Python 3 (ipykernel)",
   "language": "python",
   "name": "python3"
  },
  "language_info": {
   "codemirror_mode": {
    "name": "ipython",
    "version": 3
   },
   "file_extension": ".py",
   "mimetype": "text/x-python",
   "name": "python",
   "nbconvert_exporter": "python",
   "pygments_lexer": "ipython3",
   "version": "3.9.13"
  }
 },
 "nbformat": 4,
 "nbformat_minor": 5
}
